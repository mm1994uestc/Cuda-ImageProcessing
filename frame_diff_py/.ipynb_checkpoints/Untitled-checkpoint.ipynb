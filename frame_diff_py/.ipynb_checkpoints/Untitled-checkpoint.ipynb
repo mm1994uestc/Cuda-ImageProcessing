{
 "cells": [
  {
   "cell_type": "code",
   "execution_count": 1,
   "metadata": {},
   "outputs": [],
   "source": [
    "import pycuda.gpuarray as gpuarray\n",
    "import pycuda.cumath as cmath\n",
    "import pycuda.driver as cuda\n",
    "import pycuda.autoinit\n",
    "import numpy as np\n",
    "import cv2 as cv"
   ]
  },
  {
   "cell_type": "code",
   "execution_count": 2,
   "metadata": {},
   "outputs": [],
   "source": [
    "PATH = \"/home/nvidia-mm/Workspace/frame_diff_py/lena.jpg\"\n",
    "A = cv.imread(PATH,cv.IMREAD_GRAYSCALE)\n",
    "\n",
    "img_ori_gpu = gpuarray.to_gpu(A.astype(np.float32))\n",
    "img_buf_gpu = gpuarray.empty_like(img_ori_gpu)"
   ]
  },
  {
   "cell_type": "code",
   "execution_count": 3,
   "metadata": {},
   "outputs": [],
   "source": [
    "img_res_gpu = gpuarray.to_gpu(A.astype(np.float32))\n",
    "img_buf_gpu = cmath.fabs(img_ori_gpu - img_res_gpu)\n",
    "img_res_gpu = img_ori_gpu.copy()\n",
    "MASK = img_buf_gpu.get()\n",
    "for row in range(256):\n",
    "    for clo in range(256):\n",
    "        if MASK[row][clo] > 25:\n",
    "            A[row][clo] = 0\n",
    "cv.imshow('img',A)\n",
    "if 27 == cv.waitKey(0):\n",
    "    cv.destroyAllWindows()"
   ]
  }
 ],
 "metadata": {
  "kernelspec": {
   "display_name": "Python 2",
   "language": "python",
   "name": "python2"
  },
  "language_info": {
   "codemirror_mode": {
    "name": "ipython",
    "version": 2
   },
   "file_extension": ".py",
   "mimetype": "text/x-python",
   "name": "python",
   "nbconvert_exporter": "python",
   "pygments_lexer": "ipython2",
   "version": "2.7.17"
  }
 },
 "nbformat": 4,
 "nbformat_minor": 2
}
